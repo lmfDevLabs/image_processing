{
 "cells": [
  {
   "cell_type": "code",
   "execution_count": 4,
   "metadata": {},
   "outputs": [
    {
     "name": "stdout",
     "output_type": "stream",
     "text": [
      "No se pudo abrir la imagen: ./data/DJI_0194.JPG\n",
      "No se pudo abrir la imagen: ./data/DJI_0194.JPG\n"
     ]
    },
    {
     "name": "stderr",
     "output_type": "stream",
     "text": [
      "[ WARN:0@156.757] global /private/var/folders/k1/30mswbxs7r1g6zwn8y4fyt500000gp/T/abs_11nitadzeg/croot/opencv-suite_1691620374638/work/modules/imgcodecs/src/loadsave.cpp (239) findDecoder imread_('./data/DJI_0194.JPG'): can't open/read file: check file path/integrity\n",
      "[ WARN:0@156.758] global /private/var/folders/k1/30mswbxs7r1g6zwn8y4fyt500000gp/T/abs_11nitadzeg/croot/opencv-suite_1691620374638/work/modules/imgcodecs/src/loadsave.cpp (239) findDecoder imread_('./data/DJI_0194.JPG'): can't open/read file: check file path/integrity\n"
     ]
    }
   ],
   "source": [
    "import cv2\n",
    "import numpy as np\n",
    "import matplotlib.pyplot as plt\n",
    "from sklearn.cluster import KMeans\n",
    "\n",
    "def extraer_bordes(imagen_path, umbral1=50, umbral2=150):\n",
    "    # Leer la imagen en escala de grises\n",
    "    imagen = cv2.imread(imagen_path, 0)\n",
    "    \n",
    "    # Verificar si la imagen se ha cargado correctamente\n",
    "    if imagen is None:\n",
    "        print(f\"No se pudo abrir la imagen: {imagen_path}\")\n",
    "        return\n",
    "\n",
    "    # Aplicar una operación de desenfoque para reducir el ruido\n",
    "    imagen_desenfocada = cv2.GaussianBlur(imagen, (5,5), 0)\n",
    "    \n",
    "    # Utilizar el algoritmo de Canny para la detección de bordes\n",
    "    bordes = cv2.Canny(imagen_desenfocada, umbral1, umbral2)\n",
    "    \n",
    "    # Establecer el tamaño de la figura\n",
    "    plt.figure(figsize=(15, 10))\n",
    "\n",
    "    # Mostrar la imagen original y la imagen con los bordes detectados\n",
    "    plt.subplot(121), plt.imshow(imagen, cmap='gray')\n",
    "    plt.title('Imagen Original'), plt.xticks([]), plt.yticks([])\n",
    "    \n",
    "    plt.subplot(122), plt.imshow(bordes, cmap='gray')\n",
    "    plt.title('Bordes Detectados'), plt.xticks([]), plt.yticks([])\n",
    "    \n",
    "    plt.show()\n",
    "\n",
    "# Usar la función con la ruta de tu imagen\n",
    "extraer_bordes('./data/DJI_0194.JPG')\n",
    "\n",
    "def hough_transform(image_path):\n",
    "    # Leer la imagen en escala de grises\n",
    "    imagen = cv2.imread(image_path, cv2.IMREAD_GRAYSCALE)\n",
    "    \n",
    "    # Verificar si la imagen se ha cargado correctamente\n",
    "    if imagen is None:\n",
    "        print(f\"No se pudo abrir la imagen: {image_path}\")\n",
    "        return\n",
    "    #---------TESTING----------------------------\n",
    "    # Suavizar la imagen usando un filtro gaussiano\n",
    "    imagen_suavizada = cv2.GaussianBlur(imagen, (9, 9), 2)\n",
    "    \n",
    "    # Detectar los bordes usando el detector de bordes de Canny con umbrales ajustados\n",
    "    bordes = cv2.Canny(imagen_suavizada, 50, 200, apertureSize=3)\n",
    "    \n",
    "    # Aplicar la Transformada de Hough con parámetros ajustados\n",
    "    lineas = cv2.HoughLinesP(bordes, 1, np.pi / 180, threshold=100, minLineLength=50, maxLineGap=20)\n",
    "    \n",
    "    # Crear una copia de la imagen original para dibujar las líneas\n",
    "    imagen_lineas = cv2.cvtColor(imagen, cv2.COLOR_GRAY2BGR)\n",
    "    \n",
    "    # Dibujar las líneas en la imagen\n",
    "    for linea in lineas:\n",
    "        x1, y1, x2, y2 = linea[0]\n",
    "        cv2.line(imagen_lineas, (x1, y1), (x2, y2), (0, 255, 0), 2)\n",
    "    \n",
    "    # Convertir la imagen original y la imagen con líneas a RGB para visualización con matplotlib\n",
    "    imagen = cv2.cvtColor(imagen, cv2.COLOR_GRAY2RGB)\n",
    "    imagen_lineas = cv2.cvtColor(imagen_lineas, cv2.COLOR_BGR2RGB)\n",
    "    \n",
    "    # Establecer el tamaño de la figura\n",
    "    plt.figure(figsize=(15, 10))\n",
    "    \n",
    "    # Mostrar la imagen original y la imagen con líneas detectadas\n",
    "    plt.subplot(1, 2, 1)\n",
    "    plt.imshow(imagen)\n",
    "    plt.title('Imagen Original')\n",
    "    plt.axis('off')\n",
    "    \n",
    "    plt.subplot(1, 2, 2)\n",
    "    plt.imshow(imagen_lineas)\n",
    "    plt.title('Transformada de Hough')\n",
    "    plt.axis('off')\n",
    "    \n",
    "    plt.tight_layout()\n",
    "    plt.show()\n",
    "\n",
    "# Usar la función con la ruta de tu imagen\n",
    "hough_transform('./data/DJI_0194.JPG')\n",
    "\n"
   ]
  },
  {
   "cell_type": "code",
   "execution_count": 3,
   "metadata": {},
   "outputs": [
    {
     "name": "stdout",
     "output_type": "stream",
     "text": [
      "Collecting scikit-learn\n",
      "  Downloading scikit_learn-1.3.1-cp311-cp311-macosx_12_0_arm64.whl (9.4 MB)\n",
      "\u001b[2K     \u001b[90m━━━━━━━━━━━━━━━━━━━━━━━━━━━━━━━━━━━━━━━━\u001b[0m \u001b[32m9.4/9.4 MB\u001b[0m \u001b[31m5.2 MB/s\u001b[0m eta \u001b[36m0:00:00\u001b[0m00:01\u001b[0m00:01\u001b[0m\n",
      "\u001b[?25hRequirement already satisfied: numpy<2.0,>=1.17.3 in /Users/carlosalbertotalerojacome/miniconda3/lib/python3.11/site-packages (from scikit-learn) (1.25.2)\n",
      "Collecting scipy>=1.5.0 (from scikit-learn)\n",
      "  Downloading scipy-1.11.3-cp311-cp311-macosx_12_0_arm64.whl (29.7 MB)\n",
      "\u001b[2K     \u001b[90m━━━━━━━━━━━━━━━━━━━━━━━━━━━━━━━━━━━━━━━━\u001b[0m \u001b[32m29.7/29.7 MB\u001b[0m \u001b[31m3.8 MB/s\u001b[0m eta \u001b[36m0:00:00\u001b[0m00:01\u001b[0m00:01\u001b[0m\n",
      "\u001b[?25hCollecting joblib>=1.1.1 (from scikit-learn)\n",
      "  Downloading joblib-1.3.2-py3-none-any.whl (302 kB)\n",
      "\u001b[2K     \u001b[90m━━━━━━━━━━━━━━━━━━━━━━━━━━━━━━━━━━━━━━━\u001b[0m \u001b[32m302.2/302.2 kB\u001b[0m \u001b[31m3.5 MB/s\u001b[0m eta \u001b[36m0:00:00\u001b[0ma \u001b[36m0:00:01\u001b[0m\n",
      "\u001b[?25hCollecting threadpoolctl>=2.0.0 (from scikit-learn)\n",
      "  Downloading threadpoolctl-3.2.0-py3-none-any.whl (15 kB)\n",
      "Installing collected packages: threadpoolctl, scipy, joblib, scikit-learn\n",
      "Successfully installed joblib-1.3.2 scikit-learn-1.3.1 scipy-1.11.3 threadpoolctl-3.2.0\n",
      "Note: you may need to restart the kernel to use updated packages.\n"
     ]
    }
   ],
   "source": [
    "%pip install scikit-learn"
   ]
  }
 ],
 "metadata": {
  "kernelspec": {
   "display_name": "infraElect",
   "language": "python",
   "name": "infraelect"
  },
  "language_info": {
   "codemirror_mode": {
    "name": "ipython",
    "version": 3
   },
   "file_extension": ".py",
   "mimetype": "text/x-python",
   "name": "python",
   "nbconvert_exporter": "python",
   "pygments_lexer": "ipython3",
   "version": "3.11.4"
  }
 },
 "nbformat": 4,
 "nbformat_minor": 2
}
